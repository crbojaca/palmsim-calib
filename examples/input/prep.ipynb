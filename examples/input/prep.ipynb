{
 "cells": [
  {
   "cell_type": "code",
   "execution_count": 1,
   "metadata": {
    "collapsed": true
   },
   "outputs": [],
   "source": [
    "# import pandas --- spreadsheet library\n",
    "import pandas as pd\n",
    "\n",
    "# import matplotlib --- plotting library\n",
    "import matplotlib.pyplot as plt\n",
    "%matplotlib inline\n",
    "\n",
    "# read-in the csv-files\n",
    "\n",
    "import os\n",
    "file_dir = os.path.join('src')\n",
    "\n",
    "data = {}\n",
    "\n",
    "# load all the files in the input directory\n",
    "for file in os.listdir(file_dir):\n",
    "    if file.endswith('.csv'):\n",
    "        \n",
    "        filename,ext = file.split('.')\n",
    "        filepath = os.path.join(file_dir,file)\n",
    "\n",
    "        df = pd.read_csv(filepath,index_col='Date')\n",
    "        df.index = pd.to_datetime(df.index)\n",
    "        \n",
    "        data[filename] = df"
   ]
  },
  {
   "cell_type": "code",
   "execution_count": null,
   "metadata": {
    "collapsed": true
   },
   "outputs": [],
   "source": [
    "p.weather.radiation_series = dfw['Irradiation (MJ/m2/d)']\n",
    "\n",
    "s = dfw['Precipitation (mm/month)']\n",
    "s = s/s.index.days_in_month\n",
    "\n",
    "p.weather.rainfall_series = s"
   ]
  },
  {
   "cell_type": "code",
   "execution_count": 25,
   "metadata": {},
   "outputs": [],
   "source": [
    "def downsample(s,window=7):\n",
    "    s = s.resample('D').pad()\n",
    "    s = s.rolling(window,center=True).mean()\n",
    "    s = s.fillna(method='bfill').fillna(method='ffill')\n",
    "    return s\n",
    "\n",
    "def convert(df):\n",
    "\n",
    "    ndf = pd.DataFrame()\n",
    "\n",
    "    C_PRECIP = ('Precip (mm)','precip (mm/day)')\n",
    "    C_RAD = ('Solar (MJ/m2)', 'solar (MJ/m2/day)')\n",
    "\n",
    "    s = df[C_RAD[0]]\n",
    "\n",
    "    s = downsample(s)\n",
    "\n",
    "    ndf[C_RAD[1]] = s\n",
    "\n",
    "    s = df[C_PRECIP[0]]\n",
    "    s = s/s.index.days_in_month\n",
    "\n",
    "    s = downsample(s)\n",
    "\n",
    "    ndf[C_PRECIP[1]] = s\n",
    "    \n",
    "    return ndf"
   ]
  },
  {
   "cell_type": "code",
   "execution_count": 26,
   "metadata": {
    "collapsed": true
   },
   "outputs": [],
   "source": [
    "for fname in data:\n",
    "\n",
    "    df = convert(data[fname])\n",
    "    df.to_csv('{:}.csv'.format(fname))"
   ]
  }
 ],
 "metadata": {
  "kernelspec": {
   "display_name": "Python 3",
   "language": "python",
   "name": "python3"
  },
  "language_info": {
   "codemirror_mode": {
    "name": "ipython",
    "version": 3
   },
   "file_extension": ".py",
   "mimetype": "text/x-python",
   "name": "python",
   "nbconvert_exporter": "python",
   "pygments_lexer": "ipython3",
   "version": "3.6.3"
  }
 },
 "nbformat": 4,
 "nbformat_minor": 2
}
